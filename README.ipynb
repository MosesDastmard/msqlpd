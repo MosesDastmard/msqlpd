{
 "cells": [
  {
   "cell_type": "code",
   "execution_count": 3,
   "id": "d5771035",
   "metadata": {},
   "outputs": [],
   "source": [
    "from sqlpd import SSHTunnel, DataBaseConnection\n",
    "import time\n",
    "import pandas as pd\n",
    "import connectorx as cx"
   ]
  },
  {
   "cell_type": "code",
   "execution_count": 9,
   "id": "30ead313",
   "metadata": {},
   "outputs": [
    {
     "name": "stdout",
     "output_type": "stream",
     "text": [
      "tunnel created\n",
      "0.0.0.0\n",
      "40329\n",
      "tunnel closed\n"
     ]
    }
   ],
   "source": [
    "import pandas as pd\n",
    "with SSHTunnel( remote_host = \"80.211.60.172\",\n",
    "                remote_port = 22,\n",
    "                ssh_username = \"filetra\",\n",
    "                ssh_password = \".TRA123file\",\n",
    "                remote_bind_host = \"127.0.0.1\",\n",
    "                remote_bind_port = 3306,\n",
    "                ) as tunnel:\n",
    "    print(tunnel.server.local_bind_host)\n",
    "    print(tunnel.server.local_bind_port)\n",
    "    engine = f\"mysql://mosesd:Moses1749@{tunnel.server.local_bind_host}:{tunnel.server.local_bind_port}/SYNC\"\n",
    "    df_pd = pd.read_sql(sql='SELECT * from general_suppliers limit 1;', con=engine)\n",
    "    # df_cx = cx.read_sql(conn=engine, query='SELECT * from general_suppliers;')\n",
    "    "
   ]
  },
  {
   "cell_type": "code",
   "execution_count": 16,
   "id": "3c8ed0d0",
   "metadata": {},
   "outputs": [
    {
     "ename": "OperationalError",
     "evalue": "(2003, \"Can't connect to MySQL server on '127.0.0.1' ([Errno 111] Connection refused)\")",
     "output_type": "error",
     "traceback": [
      "\u001b[0;31m---------------------------------------------------------------------------\u001b[0m",
      "\u001b[0;31mConnectionRefusedError\u001b[0m                    Traceback (most recent call last)",
      "File \u001b[0;32m~/miniconda3/lib/python3.9/site-packages/pymysql/connections.py:613\u001b[0m, in \u001b[0;36mConnection.connect\u001b[0;34m(self, sock)\u001b[0m\n\u001b[1;32m    612\u001b[0m \u001b[39mtry\u001b[39;00m:\n\u001b[0;32m--> 613\u001b[0m     sock \u001b[39m=\u001b[39m socket\u001b[39m.\u001b[39;49mcreate_connection(\n\u001b[1;32m    614\u001b[0m         (\u001b[39mself\u001b[39;49m\u001b[39m.\u001b[39;49mhost, \u001b[39mself\u001b[39;49m\u001b[39m.\u001b[39;49mport), \u001b[39mself\u001b[39;49m\u001b[39m.\u001b[39;49mconnect_timeout, \u001b[39m*\u001b[39;49m\u001b[39m*\u001b[39;49mkwargs\n\u001b[1;32m    615\u001b[0m     )\n\u001b[1;32m    616\u001b[0m     \u001b[39mbreak\u001b[39;00m\n",
      "File \u001b[0;32m~/miniconda3/lib/python3.9/socket.py:844\u001b[0m, in \u001b[0;36mcreate_connection\u001b[0;34m(address, timeout, source_address)\u001b[0m\n\u001b[1;32m    843\u001b[0m \u001b[39mtry\u001b[39;00m:\n\u001b[0;32m--> 844\u001b[0m     \u001b[39mraise\u001b[39;00m err\n\u001b[1;32m    845\u001b[0m \u001b[39mfinally\u001b[39;00m:\n\u001b[1;32m    846\u001b[0m     \u001b[39m# Break explicitly a reference cycle\u001b[39;00m\n",
      "File \u001b[0;32m~/miniconda3/lib/python3.9/socket.py:832\u001b[0m, in \u001b[0;36mcreate_connection\u001b[0;34m(address, timeout, source_address)\u001b[0m\n\u001b[1;32m    831\u001b[0m     sock\u001b[39m.\u001b[39mbind(source_address)\n\u001b[0;32m--> 832\u001b[0m sock\u001b[39m.\u001b[39;49mconnect(sa)\n\u001b[1;32m    833\u001b[0m \u001b[39m# Break explicitly a reference cycle\u001b[39;00m\n",
      "\u001b[0;31mConnectionRefusedError\u001b[0m: [Errno 111] Connection refused",
      "\nDuring handling of the above exception, another exception occurred:\n",
      "\u001b[0;31mOperationalError\u001b[0m                          Traceback (most recent call last)",
      "\u001b[1;32m/mnt/Work/github/sqlpd-package/README.ipynb Cell 3\u001b[0m in \u001b[0;36m<cell line: 11>\u001b[0;34m()\u001b[0m\n\u001b[1;32m      <a href='vscode-notebook-cell:/mnt/Work/github/sqlpd-package/README.ipynb#X26sZmlsZQ%3D%3D?line=7'>8</a>\u001b[0m characterSet        \u001b[39m=\u001b[39m \u001b[39m\"\u001b[39m\u001b[39mutf8mb4\u001b[39m\u001b[39m\"\u001b[39m\n\u001b[1;32m      <a href='vscode-notebook-cell:/mnt/Work/github/sqlpd-package/README.ipynb#X26sZmlsZQ%3D%3D?line=8'>9</a>\u001b[0m cursorType          \u001b[39m=\u001b[39m pymysql\u001b[39m.\u001b[39mcursors\u001b[39m.\u001b[39mDictCursor\n\u001b[0;32m---> <a href='vscode-notebook-cell:/mnt/Work/github/sqlpd-package/README.ipynb#X26sZmlsZQ%3D%3D?line=10'>11</a>\u001b[0m mySQLConnection   \u001b[39m=\u001b[39m pymysql\u001b[39m.\u001b[39;49mconnect(host\u001b[39m=\u001b[39;49mserverIP,\n\u001b[1;32m     <a href='vscode-notebook-cell:/mnt/Work/github/sqlpd-package/README.ipynb#X26sZmlsZQ%3D%3D?line=11'>12</a>\u001b[0m                                     user\u001b[39m=\u001b[39;49mserverUser,\n\u001b[1;32m     <a href='vscode-notebook-cell:/mnt/Work/github/sqlpd-package/README.ipynb#X26sZmlsZQ%3D%3D?line=12'>13</a>\u001b[0m                                     password\u001b[39m=\u001b[39;49mserverUserPwd,\n\u001b[1;32m     <a href='vscode-notebook-cell:/mnt/Work/github/sqlpd-package/README.ipynb#X26sZmlsZQ%3D%3D?line=13'>14</a>\u001b[0m                                     charset\u001b[39m=\u001b[39;49mcharacterSet,\n\u001b[1;32m     <a href='vscode-notebook-cell:/mnt/Work/github/sqlpd-package/README.ipynb#X26sZmlsZQ%3D%3D?line=14'>15</a>\u001b[0m                                     cursorclass\u001b[39m=\u001b[39;49mcursorType)\n\u001b[1;32m     <a href='vscode-notebook-cell:/mnt/Work/github/sqlpd-package/README.ipynb#X26sZmlsZQ%3D%3D?line=16'>17</a>\u001b[0m \u001b[39mtry\u001b[39;00m:\n\u001b[1;32m     <a href='vscode-notebook-cell:/mnt/Work/github/sqlpd-package/README.ipynb#X26sZmlsZQ%3D%3D?line=17'>18</a>\u001b[0m     \u001b[39m# Obtain a cursor object\u001b[39;00m\n\u001b[1;32m     <a href='vscode-notebook-cell:/mnt/Work/github/sqlpd-package/README.ipynb#X26sZmlsZQ%3D%3D?line=18'>19</a>\u001b[0m     cursorObject    \u001b[39m=\u001b[39m mySQLConnection\u001b[39m.\u001b[39mcursor()                                  \n",
      "File \u001b[0;32m~/miniconda3/lib/python3.9/site-packages/pymysql/connections.py:353\u001b[0m, in \u001b[0;36mConnection.__init__\u001b[0;34m(self, user, password, host, database, unix_socket, port, charset, sql_mode, read_default_file, conv, use_unicode, client_flag, cursorclass, init_command, connect_timeout, read_default_group, autocommit, local_infile, max_allowed_packet, defer_connect, auth_plugin_map, read_timeout, write_timeout, bind_address, binary_prefix, program_name, server_public_key, ssl, ssl_ca, ssl_cert, ssl_disabled, ssl_key, ssl_verify_cert, ssl_verify_identity, compress, named_pipe, passwd, db)\u001b[0m\n\u001b[1;32m    351\u001b[0m     \u001b[39mself\u001b[39m\u001b[39m.\u001b[39m_sock \u001b[39m=\u001b[39m \u001b[39mNone\u001b[39;00m\n\u001b[1;32m    352\u001b[0m \u001b[39melse\u001b[39;00m:\n\u001b[0;32m--> 353\u001b[0m     \u001b[39mself\u001b[39;49m\u001b[39m.\u001b[39;49mconnect()\n",
      "File \u001b[0;32m~/miniconda3/lib/python3.9/site-packages/pymysql/connections.py:664\u001b[0m, in \u001b[0;36mConnection.connect\u001b[0;34m(self, sock)\u001b[0m\n\u001b[1;32m    662\u001b[0m     \u001b[39mif\u001b[39;00m DEBUG:\n\u001b[1;32m    663\u001b[0m         \u001b[39mprint\u001b[39m(exc\u001b[39m.\u001b[39mtraceback)\n\u001b[0;32m--> 664\u001b[0m     \u001b[39mraise\u001b[39;00m exc\n\u001b[1;32m    666\u001b[0m \u001b[39m# If e is neither DatabaseError or IOError, It's a bug.\u001b[39;00m\n\u001b[1;32m    667\u001b[0m \u001b[39m# But raising AssertionError hides original error.\u001b[39;00m\n\u001b[1;32m    668\u001b[0m \u001b[39m# So just reraise it.\u001b[39;00m\n\u001b[1;32m    669\u001b[0m \u001b[39mraise\u001b[39;00m\n",
      "\u001b[0;31mOperationalError\u001b[0m: (2003, \"Can't connect to MySQL server on '127.0.0.1' ([Errno 111] Connection refused)\")"
     ]
    }
   ],
   "source": [
    "# import the mysql client library\n",
    "import pymysql\n",
    "\n",
    "# Connection creation\n",
    "serverIP            = \"127.0.0.1\"\n",
    "serverUser          = \"moses\"  \n",
    "serverUserPwd       = \"9903\"       \n",
    "characterSet        = \"utf8mb4\"\n",
    "cursorType          = pymysql.cursors.DictCursor\n",
    "\n",
    "mySQLConnection   = pymysql.connect(host=serverIP,\n",
    "                                    user=serverUser,\n",
    "                                    password=serverUserPwd,\n",
    "                                    charset=characterSet,\n",
    "                                    cursorclass=cursorType)\n",
    "\n",
    "try:\n",
    "    # Obtain a cursor object\n",
    "    cursorObject    = mySQLConnection.cursor()                                  \n",
    "\n",
    "    # Execute DESCRIBE statement\n",
    "    cursorObject.execute(\"DESCRIBE test.UserList\")\n",
    "\n",
    "    # Fetch and print the meta-data of the table\n",
    "    indexList = cursorObject.fetchall()\n",
    "\n",
    "    print(indexList)\n",
    "\n",
    "except Exception as e:\n",
    "    print(\"Exception occured:{}\".format(e))\n",
    "\n",
    "finally:\n",
    "    mySQLConnection.close()"
   ]
  },
  {
   "cell_type": "code",
   "execution_count": 14,
   "id": "01ac29ed",
   "metadata": {},
   "outputs": [
    {
     "name": "stdout",
     "output_type": "stream",
     "text": [
      "Collecting pymysql\n",
      "  Downloading PyMySQL-1.0.2-py3-none-any.whl (43 kB)\n",
      "\u001b[K     |████████████████████████████████| 43 kB 151 kB/s eta 0:00:01\n",
      "\u001b[?25hInstalling collected packages: pymysql\n",
      "Successfully installed pymysql-1.0.2\n",
      "Note: you may need to restart the kernel to use updated packages.\n"
     ]
    }
   ],
   "source": [
    "pip install pymysql"
   ]
  },
  {
   "cell_type": "code",
   "execution_count": 7,
   "id": "e051f7b3",
   "metadata": {},
   "outputs": [],
   "source": [
    "import os\n",
    "def mysql_url() -> str:\n",
    "    # conn = os.environ[\"MYSQL_URL\"]\n",
    "    conn = os.environ[\"MARIADB_URL\"]\n",
    "    return conn"
   ]
  },
  {
   "cell_type": "code",
   "execution_count": null,
   "id": "48e4085f",
   "metadata": {},
   "outputs": [],
   "source": []
  }
 ],
 "metadata": {
  "kernelspec": {
   "display_name": "Python 3.9.7 ('base')",
   "language": "python",
   "name": "python3"
  },
  "language_info": {
   "codemirror_mode": {
    "name": "ipython",
    "version": 3
   },
   "file_extension": ".py",
   "mimetype": "text/x-python",
   "name": "python",
   "nbconvert_exporter": "python",
   "pygments_lexer": "ipython3",
   "version": "3.9.12"
  },
  "vscode": {
   "interpreter": {
    "hash": "7277c7ea477790c4382be1424704bd732ab8cb765ed226d0325e6205841d7d85"
   }
  }
 },
 "nbformat": 4,
 "nbformat_minor": 5
}
