{
 "cells": [
  {
   "cell_type": "markdown",
   "id": "fa1df036",
   "metadata": {},
   "source": [
    "## document is not ready yet"
   ]
  },
  {
   "cell_type": "code",
   "execution_count": 2,
   "id": "c072b3f7",
   "metadata": {},
   "outputs": [],
   "source": [
    "from sqlpd import DataBase"
   ]
  },
  {
   "cell_type": "code",
   "execution_count": null,
   "id": "410c89a7",
   "metadata": {},
   "outputs": [],
   "source": [
    "with DataBase('')"
   ]
  }
 ],
 "metadata": {
  "kernelspec": {
   "display_name": "Python 3.9.7 ('base')",
   "language": "python",
   "name": "python3"
  },
  "language_info": {
   "codemirror_mode": {
    "name": "ipython",
    "version": 3
   },
   "file_extension": ".py",
   "mimetype": "text/x-python",
   "name": "python",
   "nbconvert_exporter": "python",
   "pygments_lexer": "ipython3",
   "version": "3.9.12"
  },
  "vscode": {
   "interpreter": {
    "hash": "7277c7ea477790c4382be1424704bd732ab8cb765ed226d0325e6205841d7d85"
   }
  }
 },
 "nbformat": 4,
 "nbformat_minor": 5
}
